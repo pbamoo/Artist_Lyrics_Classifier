{
 "cells": [
  {
   "cell_type": "markdown",
   "metadata": {},
   "source": [
    "### Goal: \n",
    "##### To build a text classification model to predict the artist from a piece of text"
   ]
  },
  {
   "cell_type": "code",
   "execution_count": 1,
   "metadata": {},
   "outputs": [],
   "source": [
    "#To make this scrapper look legitimate, we spoof the headers we send along with our requests\n",
    "\n",
    "import requests\n",
    "from bs4 import BeautifulSoup\n",
    "import pandas as pd\n",
    "\n",
    "headers = {\n",
    "    'Access-Control-Allow-Origin': '*',\n",
    "    'Access-Control-Allow-Methods': 'GET',\n",
    "    'Access-Control-Allow-Headers': 'Content-Type',\n",
    "    'Access-Control-Max-Age': '3600',\n",
    "    'User-Agent': 'Mozilla/5.0 (X11; Ubuntu; Linux x86_64; rv:52.0) Gecko/20100101 Firefox/52.0'\n",
    "    }"
   ]
  },
  {
   "cell_type": "markdown",
   "metadata": {},
   "source": [
    "1. Download HTML pages --> 2. Get a list of song urls --> 3. Extract lyrics from song urls"
   ]
  },
  {
   "cell_type": "code",
   "execution_count": 2,
   "metadata": {},
   "outputs": [],
   "source": [
    "BASE_URL = \"https://www.lyrics.com\"\n",
    "\n",
    "def get_lyrics(path):\n",
    "    new_url = BASE_URL + path\n",
    "    r = requests.get(new_url)\n",
    "    soup = BeautifulSoup(r.content , 'html.parser').text\n",
    "    return soup.find('h1'), soup.find('pre')"
   ]
  },
  {
   "cell_type": "code",
   "execution_count": 3,
   "metadata": {},
   "outputs": [],
   "source": [
    "url = BASE_URL + \"/artist/Lokua-Kanza/173548\"\n",
    "\n",
    "r = requests.get(url)\n",
    "soup = BeautifulSoup(r.content , 'html.parser')\n",
    "tags = soup.find_all('strong')\n",
    "\n",
    "song_links = []\n",
    "# iterate over each song entry and grab the link to the lyrics\n",
    "for content in tags:\n",
    "    link = content.find('a')\n",
    "    if link and link['href'].startswith('/lyric'):\n",
    "        song_links.append(link['href'])"
   ]
  },
  {
   "cell_type": "code",
   "execution_count": 4,
   "metadata": {},
   "outputs": [],
   "source": [
    "songs = {}\n",
    "# then we iterate over all the lyric links and get the lyrics for each song\n",
    "# those lyrics are then stored in songs[song_title]\n",
    "for l in song_links:\n",
    "    song,lyrics = get_lyrics(l)\n",
    "    songs[song] = lyrics"
   ]
  },
  {
   "cell_type": "code",
   "execution_count": 5,
   "metadata": {
    "scrolled": true
   },
   "outputs": [
    {
     "data": {
      "text/plain": [
       "{'Wapi Yo': '(Lokua Kanza)\\nTango ngaï na lelaka\\nMoto andima ngaï te\\nTango ngaï na belelaka yo\\nWapi yo\\nMayi ya miso ekotanga\\nBolingo na ngaï akeyi eh\\nNani akoyembela ngaï nzembo\\nYa bolingo ye eh\\nWapi yo, (bis) ye eh ye\\nWapi yo oh bolingo na ngaï okeyi wapi\\nWapi yo oh wapi yo bolingo na ngaï\\nSoki lelo olobi yo oboya ngaï\\nNa kosuka wapi ye ngaï ya oh ngaï ye eh\\nMama ah ah\\nMayi ya miso ekotanga\\nBolingo na ngaï akeyi eh\\nNani akoyembela ngaï nzembo\\nYa bolingo ye eh\\nWapi yo, (bis) ye eh\\nWapi yo oh bolingo na ngaï\\nBolingo na ngaï soki otiki ngaï nani\\nAkolinga ngaï\\nYe... (wapi okeyi wapi bolingo na ngaï)\\nWapi yo (bis)\\nChoeur: bolingo na ngaï\\nVoix parlée: bolingo na ngaï soki otiki ngaï\\nNaniakolinga ngaï lokola yo\\nNani soki yo te nani\\nBolingo na ngaï\\nChoeurs: wapi yo\\nSoki otiki ngaï nani akolinga ngaï\\nWapi yo (ad lib)\\n',\n",
       " 'GHANA BLUES': \"Ba na siben don bouda mon ni mon bo la wa\\nMawo pomdom bi da bobe\\nBodlan jon masi emi yen demba mongo ka budu\\nYenibolo ebotinde bemba wo\\nWoko woko\\nWoko woko\\nWoko woko\\nlembe wa\\nBa na siben don bouda ka ba mon ni la wa\\nMawo pomdom bi da bobe\\nBodlan jon masi emi yen demba mongo ka budu\\nYenibolowe ebotinde wemba wo\\nDidje amoundja mi\\nEsela be bowa tete\\nDis pas non non\\nOma wa le nyollo nyolantshe\\nLan loma dingui nidalajo\\nDis pas non non\\nDis pas non non\\nDon't say no no\\nDis pas non non\\nDon't say no no\\nNda le dekwo nawo\\nDis pas non non\\nDon't say no no\\nDis pas non non\\nDon't say no no\\nBa kouko nde bandeko na yamakoudjou\\nTse pa te kanemba nana wa\\nWoko woko\\nWoko woko\\nWoko woko\\nlembe wa\",\n",
       " 'KWALELO': 'Yeteni kanimba mbo mbou\\nYetena niamgo\\nBaloko natingelando yi ndende na na\\nMais pourquoi\\nMais pourquoi imbadi mimbadi na\\nMais pourquoi\\nMais pourquoi imbadi mimbadi na\\nSinde mba nyondolando\\nDibiyale nde go mi nan\\nMpa mbi pa ma na mba noki\\nAsi ebi kola bona\\nDja lo yembala\\nYele ndondo kiropa\\nBena Oh Oh\\n\\nMei ta poye be\\nA walala fowe\\nE wi a avapala ose\\nPourquoi\\nSay porque puci puci\\nMilla soma wesle fowesa sleep away\\nSou lovo belesesepa o peye\\nOu lo tiendo na me ya do\\nYende mbala iropa\\nEna enajengo balatipo\\nIlo tiende\\nKindena\\nKwalelo kwalelo\\nKwalelo kwalelo\\nKwalelo kwalelo\\nKwalelo kwalelo',\n",
       " 'Liteya': '(Lokua Kanza)\\nMwana na ngaï soki lelo to lobi ngaï na we\\nLiteya nini na koki kopesa yo\\nBatela bomoyi na yo sala ngele\\nMoto nionso na mokili akoluka akoma na bomengo\\nKasi bomengo ya solo mwana na ngaï\\nEza bomengo ya molimo yoka eh\\nMwana na ngaï\\nMwana na ngaï kumisa nzambe\\nAkela yo pe batela bomoyi na yo\\nKoboma moto te epayi nionso yo\\nOkokendeke\\nMwana na ngaï sala ngele epayi yo okotiya ma kolo\\nSala ngele ye mwana na ngaï yo (bis)\\nMwana na ngaï (bis) sala ngele mwana na ngaï\\n',\n",
       " \"JE N'AI PAS CHOISI\": \"C'est pour tous nos sols rouges\\nEt nos tempêtes de sable\\nÀ tous ceux qui connaissent\\nLe goût du goudron\\nAux guerriers moudjahidin\\nComme aux mutins d'Abidjan\\nÀ nos musiques de Brazza\\nComme aux ambiances de Kin\\nNos futurs se dessinent\\nLe monde est à nous\\nLeurs forces déciment\\nEt d'ici une décennie\\nIls s'excuseront sur leurs colonies\\nDécidément et dorénavant\\n\\nJe n'ai pas choisi\\nChoisi d'être là\\nIls m'ont largué\\nComme un oiseau\\nQui ne peut plus rentrer chez lui\\nMais moi je suis l'accusé\\nDont l'histoire est un combat\\nNègre marron comme Kunta\\nDe ceux qui n'acceptent pas\\nJe suis le mec grisé\\nQui a poussé près de chez toi\\nCoupable ou mort-né\\nJe suis un ennemi d'état\\nJe suis l'accusé qui se lève\\nEt offense le magistrat\\nDe ceux qu'on a fouetté\\nEt de ceux qui n'oublient pas\\nJe suis l'accusé\\nEt seul Dieu me jugera\\nComme on choisit pas sa famille\\nJ'ai pas choisi d'être là\\n\\n\\nJe n'ai pas choisi\\nChoisi d'être là\\nIls m'ont largué\\nComme un oiseau\\nQui ne peut plus rentrer chez lui\\n\\nActe un : tu sais d'où tu viens\\nActe deux : tu sais qui t'en veut\\nActe trois : tu connais tes droits\\nLa liberté, c'est parler agir\\nSans se faire emmerder\\nD'un côté des merguez\\nDe l'autre du boudin des chipolatas\\nSi tous les hommes naissent égaux\\nNégro n'est pas dans les quotas\\nComment courir et se sauver\\nAvec un jarret coupé\\nCette terre et nos vers planent\\nIci les chaînes nous brisons\\nComme E.T. je veux être libre\\nMais aussi rentrer maison\\n\\nJe n'ai pas choisi\\nChoisi d'être là\\nIls m'ont largué\\nComme un oiseau\\nQui ne peut plus rentrer chez lui\\n\\nNzimbo yayi ke samu na batu\\nNionso ke na buala\\nSamu na batu nionso na kati\\nYa continent ya betu\\nNa batu nionso inki na zolaka ku changer\\nNa batu nionso inki na zolaka ku décoller\\nNzimbu yayi ke samu na liberté\\nYa betu nionso tu benu me wa\\n\\nJe n'ai pas choisi\\nChoisi d'être là\\nIls m'ont largué\\nComme un oiseau\\nQui ne peut plus rentrer chez lui\",\n",
       " 'Mungu': '(Lokua Kanza)\\nWatu wana tafuta ukweli\\nMapendo kwenye iko ni mbali\\nDuniya ni iko na liya liya\\nWatu wana fika sa wa nyama\\nNani ata weza kusema ye ni kweli\\nInabakiya tu mungu atu poneshe\\n',\n",
       " 'Yoka': '(Lokua Kanza)\\nKala nalobi no yoka makambo nionso\\nNgaï nalingaka te\\nKanda na ngaï eza ya niama\\nPasi elekeli ngaï mingi\\nKolinga moninga ebomaka te\\nOyo ya ngaï ekoma ngambo\\nYokela ngaï tango nakoloba\\nKanda na ngaï eza ya niama\\nNdimela ngaï tango nakolela\\nMotema na ngaï ezali se yo\\n(bis)\\nYokela ngaï motema na ngaï eh\\nYokela ngaï tango ngaï na kolelaka yo\\nYoka ah\\nYokela ngaï ah eh tango ngaï na kolelaka yo\\nYoka ngaï ndimbola na ngaï ya bolingo\\nNa koyembela yo\\nNa loyembo yo ebongi o yoka ngaï\\nYe eh eh yokela ngaï ah tango ngaï\\nNa kolela moto andima ngaï te eh\\nNaza lokola moto nionso oh\\nNa zalaka pe na kanda na ngaï\\nTango ngaï nalelaka yokela ngaï ah\\nYokela ngaï tango ngaï na kolelaka yo\\nYokela ngaï tango ngaï na kolelaka\\nYokela ngaï napesi yo motema na ngaï\\nYokela ngaï\\n',\n",
       " 'Just To Say I Love You': \"(Catherine Susser/Lokua Kanza)\\nSpirit healer\\nKeeps on telling me why\\nI've been running miles\\nSince yesterday's sunrise\\nLike a river\\nI've come all this way\\nJust to say I love you\\nYeah yeah...\\nJust to say I love you\\nNavigated unrelenting seas\\nMade my way\\nAcross the desert laughing\\nBattled hunger\\nWith my weapon of love\\nThat's what life is made of\\nNgaï na ye bolingo na ngaï koyebisa yo\\nNdenge ngaï nalingi yo\\nNokalanda yo bipayi nionso bolingo na ngaï\\nYeah yeah...\\nJust to say I love you\\n\",\n",
       " 'Anata O': '(Tokiko Kato/Lokua Kanza)\\nDonna tokimo\\nKonna tokimo\\nOmotellu\\nKaze no yooni\\nAnata o\\n',\n",
       " 'Molili': '(Lokua Kanza)\\nNa mileli leli mokili oyo eleki pasi\\nNa kolukaka nzela ah po na kozua\\nNzela ya bomoyi\\nTina nini pasi oyo esilaka te\\nNdenge nini mokili yango esalama boye zambe\\nChoeurs: Molili eleki nzambe\\nLakisa ngaï nzela\\nMolili eleki nzambe\\nLakisa ngaï nzela\\nTina nini eh pasi oyo esilaka te\\nNdenge nini mokili yango esalama boye\\nChoeurs: Nzambe na ngaï\\nMolili eleki nzambe\\nLakisa ngaï nzela\\nNzambe na ngaï ya bomoyi\\nLakisa ngaï nzela\\n'}"
      ]
     },
     "execution_count": 5,
     "metadata": {},
     "output_type": "execute_result"
    }
   ],
   "source": [
    "songs"
   ]
  },
  {
   "cell_type": "code",
   "execution_count": 6,
   "metadata": {
    "scrolled": true
   },
   "outputs": [
    {
     "name": "stdout",
     "output_type": "stream",
     "text": [
      "Ba na siben don bouda mon ni mon bo la wa\n",
      "Mawo pomdom bi da bobe\n",
      "Bodlan jon masi emi yen demba mongo ka budu\n",
      "Yenibolo ebotinde bemba wo\n",
      "Woko woko\n",
      "Woko woko\n",
      "Woko woko\n",
      "lembe wa\n",
      "Ba na siben don bouda ka ba mon ni la wa\n",
      "Mawo pomdom bi da bobe\n",
      "Bodlan jon masi emi yen demba mongo ka budu\n",
      "Yenibolowe ebotinde wemba wo\n",
      "Didje amoundja mi\n",
      "Esela be bowa tete\n",
      "Dis pas non non\n",
      "Oma wa le nyollo nyolantshe\n",
      "Lan loma dingui nidalajo\n",
      "Dis pas non non\n",
      "Dis pas non non\n",
      "Don't say no no\n",
      "Dis pas non non\n",
      "Don't say no no\n",
      "Nda le dekwo nawo\n",
      "Dis pas non non\n",
      "Don't say no no\n",
      "Dis pas non non\n",
      "Don't say no no\n",
      "Ba kouko nde bandeko na yamakoudjou\n",
      "Tse pa te kanemba nana wa\n",
      "Woko woko\n",
      "Woko woko\n",
      "Woko woko\n",
      "lembe wa\n"
     ]
    }
   ],
   "source": [
    "print (songs['GHANA BLUES'])"
   ]
  },
  {
   "cell_type": "code",
   "execution_count": 21,
   "metadata": {
    "scrolled": true
   },
   "outputs": [
    {
     "data": {
      "text/html": [
       "<div>\n",
       "<style scoped>\n",
       "    .dataframe tbody tr th:only-of-type {\n",
       "        vertical-align: middle;\n",
       "    }\n",
       "\n",
       "    .dataframe tbody tr th {\n",
       "        vertical-align: top;\n",
       "    }\n",
       "\n",
       "    .dataframe thead th {\n",
       "        text-align: right;\n",
       "    }\n",
       "</style>\n",
       "<table border=\"1\" class=\"dataframe\">\n",
       "  <thead>\n",
       "    <tr style=\"text-align: right;\">\n",
       "      <th></th>\n",
       "      <th>Title</th>\n",
       "      <th>Lyrics</th>\n",
       "    </tr>\n",
       "  </thead>\n",
       "  <tbody>\n",
       "    <tr>\n",
       "      <th>0</th>\n",
       "      <td>Wapi Yo</td>\n",
       "      <td>(Lokua Kanza)\\nTango ngaï na lelaka\\nMoto andi...</td>\n",
       "    </tr>\n",
       "    <tr>\n",
       "      <th>1</th>\n",
       "      <td>GHANA BLUES</td>\n",
       "      <td>Ba na siben don bouda mon ni mon bo la wa\\nMaw...</td>\n",
       "    </tr>\n",
       "  </tbody>\n",
       "</table>\n",
       "</div>"
      ],
      "text/plain": [
       "         Title                                             Lyrics\n",
       "0      Wapi Yo  (Lokua Kanza)\\nTango ngaï na lelaka\\nMoto andi...\n",
       "1  GHANA BLUES  Ba na siben don bouda mon ni mon bo la wa\\nMaw..."
      ]
     },
     "execution_count": 21,
     "metadata": {},
     "output_type": "execute_result"
    }
   ],
   "source": [
    "df = pd.DataFrame(list(songs.items()),columns = ['Title','Lyrics'])\n",
    "df.head(2)"
   ]
  },
  {
   "cell_type": "markdown",
   "metadata": {},
   "source": [
    "**Pre-processing of data:** \n",
    "1. Tokenization (process of segmenting or separating text into words, clauses or sentences, & removal of punctuation) \n",
    "2. Stemming (reducing related words to a common stem)\n",
    "3. Removal of Stop Words (removal of commonly used words unlikely to be useful for learning)"
   ]
  },
  {
   "cell_type": "code",
   "execution_count": 22,
   "metadata": {},
   "outputs": [],
   "source": [
    "from sklearn.feature_extraction.text import CountVectorizer \n",
    "import nltk"
   ]
  },
  {
   "cell_type": "code",
   "execution_count": 26,
   "metadata": {},
   "outputs": [
    {
     "data": {
      "text/html": [
       "<div>\n",
       "<style scoped>\n",
       "    .dataframe tbody tr th:only-of-type {\n",
       "        vertical-align: middle;\n",
       "    }\n",
       "\n",
       "    .dataframe tbody tr th {\n",
       "        vertical-align: top;\n",
       "    }\n",
       "\n",
       "    .dataframe thead th {\n",
       "        text-align: right;\n",
       "    }\n",
       "</style>\n",
       "<table border=\"1\" class=\"dataframe\">\n",
       "  <thead>\n",
       "    <tr style=\"text-align: right;\">\n",
       "      <th></th>\n",
       "      <th>Title</th>\n",
       "      <th>Lyrics</th>\n",
       "      <th>words</th>\n",
       "    </tr>\n",
       "  </thead>\n",
       "  <tbody>\n",
       "    <tr>\n",
       "      <th>0</th>\n",
       "      <td>Wapi Yo</td>\n",
       "      <td>(Lokua Kanza)\\nTango ngaï na lelaka\\nMoto andi...</td>\n",
       "      <td>[Lokua, Kanza, Tango, ngaï, na, lelaka, Moto, ...</td>\n",
       "    </tr>\n",
       "    <tr>\n",
       "      <th>1</th>\n",
       "      <td>GHANA BLUES</td>\n",
       "      <td>Ba na siben don bouda mon ni mon bo la wa\\nMaw...</td>\n",
       "      <td>[Ba, na, siben, don, bouda, mon, ni, mon, bo, ...</td>\n",
       "    </tr>\n",
       "    <tr>\n",
       "      <th>2</th>\n",
       "      <td>KWALELO</td>\n",
       "      <td>Yeteni kanimba mbo mbou\\nYetena niamgo\\nBaloko...</td>\n",
       "      <td>[Yeteni, kanimba, mbo, mbou, Yetena, niamgo, B...</td>\n",
       "    </tr>\n",
       "    <tr>\n",
       "      <th>3</th>\n",
       "      <td>Liteya</td>\n",
       "      <td>(Lokua Kanza)\\nMwana na ngaï soki lelo to lobi...</td>\n",
       "      <td>[Lokua, Kanza, Mwana, na, ngaï, soki, lelo, to...</td>\n",
       "    </tr>\n",
       "    <tr>\n",
       "      <th>4</th>\n",
       "      <td>JE N'AI PAS CHOISI</td>\n",
       "      <td>C'est pour tous nos sols rouges\\nEt nos tempêt...</td>\n",
       "      <td>[pour, tous, nos, sols, rouges, Et, nos, tempê...</td>\n",
       "    </tr>\n",
       "  </tbody>\n",
       "</table>\n",
       "</div>"
      ],
      "text/plain": [
       "                Title                                             Lyrics  \\\n",
       "0             Wapi Yo  (Lokua Kanza)\\nTango ngaï na lelaka\\nMoto andi...   \n",
       "1         GHANA BLUES  Ba na siben don bouda mon ni mon bo la wa\\nMaw...   \n",
       "2             KWALELO  Yeteni kanimba mbo mbou\\nYetena niamgo\\nBaloko...   \n",
       "3              Liteya  (Lokua Kanza)\\nMwana na ngaï soki lelo to lobi...   \n",
       "4  JE N'AI PAS CHOISI  C'est pour tous nos sols rouges\\nEt nos tempêt...   \n",
       "\n",
       "                                               words  \n",
       "0  [Lokua, Kanza, Tango, ngaï, na, lelaka, Moto, ...  \n",
       "1  [Ba, na, siben, don, bouda, mon, ni, mon, bo, ...  \n",
       "2  [Yeteni, kanimba, mbo, mbou, Yetena, niamgo, B...  \n",
       "3  [Lokua, Kanza, Mwana, na, ngaï, soki, lelo, to...  \n",
       "4  [pour, tous, nos, sols, rouges, Et, nos, tempê...  "
      ]
     },
     "execution_count": 26,
     "metadata": {},
     "output_type": "execute_result"
    }
   ],
   "source": [
    "def identify_tokens(row):\n",
    "    Lyrics = row['Lyrics']\n",
    "    #lyricss = df['lyricss']\n",
    "    tokens = nltk.word_tokenize(Lyrics)\n",
    "    token_words = [w for w in tokens if w.isalpha()]\n",
    "    return token_words\n",
    "\n",
    "df['words'] = df.apply(identify_tokens, axis=1)\n",
    "df.head()"
   ]
  },
  {
   "cell_type": "code",
   "execution_count": 8,
   "metadata": {
    "scrolled": false
   },
   "outputs": [
    {
     "data": {
      "text/html": [
       "<div>\n",
       "<style scoped>\n",
       "    .dataframe tbody tr th:only-of-type {\n",
       "        vertical-align: middle;\n",
       "    }\n",
       "\n",
       "    .dataframe tbody tr th {\n",
       "        vertical-align: top;\n",
       "    }\n",
       "\n",
       "    .dataframe thead th {\n",
       "        text-align: right;\n",
       "    }\n",
       "</style>\n",
       "<table border=\"1\" class=\"dataframe\">\n",
       "  <thead>\n",
       "    <tr style=\"text-align: right;\">\n",
       "      <th></th>\n",
       "      <th>Title</th>\n",
       "      <th>Lyrics</th>\n",
       "      <th>lyricss</th>\n",
       "    </tr>\n",
       "  </thead>\n",
       "  <tbody>\n",
       "    <tr>\n",
       "      <th>0</th>\n",
       "      <td>Wapi Yo</td>\n",
       "      <td>(Lokua Kanza)\\nTango ngaï na lelaka\\nMoto andi...</td>\n",
       "      <td>Lokua Kanza  Tango ngaï na lelaka Moto andima...</td>\n",
       "    </tr>\n",
       "    <tr>\n",
       "      <th>1</th>\n",
       "      <td>GHANA BLUES</td>\n",
       "      <td>Ba na siben don bouda mon ni mon bo la wa\\nMaw...</td>\n",
       "      <td>Ba na siben don bouda mon ni mon bo la wa Mawo...</td>\n",
       "    </tr>\n",
       "    <tr>\n",
       "      <th>2</th>\n",
       "      <td>KWALELO</td>\n",
       "      <td>Yeteni kanimba mbo mbou\\nYetena niamgo\\nBaloko...</td>\n",
       "      <td>Yeteni kanimba mbo mbou Yetena niamgo Baloko n...</td>\n",
       "    </tr>\n",
       "    <tr>\n",
       "      <th>3</th>\n",
       "      <td>Liteya</td>\n",
       "      <td>(Lokua Kanza)\\nMwana na ngaï soki lelo to lobi...</td>\n",
       "      <td>Lokua Kanza  Mwana na ngaï soki lelo to lobi ...</td>\n",
       "    </tr>\n",
       "  </tbody>\n",
       "</table>\n",
       "</div>"
      ],
      "text/plain": [
       "         Title                                             Lyrics  \\\n",
       "0      Wapi Yo  (Lokua Kanza)\\nTango ngaï na lelaka\\nMoto andi...   \n",
       "1  GHANA BLUES  Ba na siben don bouda mon ni mon bo la wa\\nMaw...   \n",
       "2      KWALELO  Yeteni kanimba mbo mbou\\nYetena niamgo\\nBaloko...   \n",
       "3       Liteya  (Lokua Kanza)\\nMwana na ngaï soki lelo to lobi...   \n",
       "\n",
       "                                             lyricss  \n",
       "0   Lokua Kanza  Tango ngaï na lelaka Moto andima...  \n",
       "1  Ba na siben don bouda mon ni mon bo la wa Mawo...  \n",
       "2  Yeteni kanimba mbo mbou Yetena niamgo Baloko n...  \n",
       "3   Lokua Kanza  Mwana na ngaï soki lelo to lobi ...  "
      ]
     },
     "execution_count": 8,
     "metadata": {},
     "output_type": "execute_result"
    }
   ],
   "source": [
    "import re\n",
    "\n",
    "#clean the data by removing all special chaacters\n",
    "\n",
    "df['lyricss'] = df['Lyrics'].str.replace('\\W', ' ')\n",
    "#df['lyricss'] = df['Lyrics'].map(lambda x: re.sub(r'\\W+', ' ', x))\n",
    "df.head(4)"
   ]
  },
  {
   "cell_type": "code",
   "execution_count": 9,
   "metadata": {
    "scrolled": false
   },
   "outputs": [
    {
     "data": {
      "text/html": [
       "<div>\n",
       "<style scoped>\n",
       "    .dataframe tbody tr th:only-of-type {\n",
       "        vertical-align: middle;\n",
       "    }\n",
       "\n",
       "    .dataframe tbody tr th {\n",
       "        vertical-align: top;\n",
       "    }\n",
       "\n",
       "    .dataframe thead th {\n",
       "        text-align: right;\n",
       "    }\n",
       "</style>\n",
       "<table border=\"1\" class=\"dataframe\">\n",
       "  <thead>\n",
       "    <tr style=\"text-align: right;\">\n",
       "      <th></th>\n",
       "      <th>Title</th>\n",
       "      <th>lyricss</th>\n",
       "    </tr>\n",
       "  </thead>\n",
       "  <tbody>\n",
       "    <tr>\n",
       "      <th>0</th>\n",
       "      <td>Wapi Yo</td>\n",
       "      <td>Lokua Kanza  Tango ngaï na lelaka Moto andima...</td>\n",
       "    </tr>\n",
       "    <tr>\n",
       "      <th>1</th>\n",
       "      <td>GHANA BLUES</td>\n",
       "      <td>Ba na siben don bouda mon ni mon bo la wa Mawo...</td>\n",
       "    </tr>\n",
       "    <tr>\n",
       "      <th>2</th>\n",
       "      <td>KWALELO</td>\n",
       "      <td>Yeteni kanimba mbo mbou Yetena niamgo Baloko n...</td>\n",
       "    </tr>\n",
       "    <tr>\n",
       "      <th>3</th>\n",
       "      <td>Liteya</td>\n",
       "      <td>Lokua Kanza  Mwana na ngaï soki lelo to lobi ...</td>\n",
       "    </tr>\n",
       "  </tbody>\n",
       "</table>\n",
       "</div>"
      ],
      "text/plain": [
       "         Title                                            lyricss\n",
       "0      Wapi Yo   Lokua Kanza  Tango ngaï na lelaka Moto andima...\n",
       "1  GHANA BLUES  Ba na siben don bouda mon ni mon bo la wa Mawo...\n",
       "2      KWALELO  Yeteni kanimba mbo mbou Yetena niamgo Baloko n...\n",
       "3       Liteya   Lokua Kanza  Mwana na ngaï soki lelo to lobi ..."
      ]
     },
     "execution_count": 9,
     "metadata": {},
     "output_type": "execute_result"
    }
   ],
   "source": [
    "df.drop('Lyrics', axis=1, inplace=True) #where 1 is the axis number (0 for rows and 1 for columns)\n",
    "df.head(4)"
   ]
  },
  {
   "cell_type": "code",
   "execution_count": 10,
   "metadata": {
    "scrolled": true
   },
   "outputs": [
    {
     "data": {
      "text/html": [
       "<div>\n",
       "<style scoped>\n",
       "    .dataframe tbody tr th:only-of-type {\n",
       "        vertical-align: middle;\n",
       "    }\n",
       "\n",
       "    .dataframe tbody tr th {\n",
       "        vertical-align: top;\n",
       "    }\n",
       "\n",
       "    .dataframe thead th {\n",
       "        text-align: right;\n",
       "    }\n",
       "</style>\n",
       "<table border=\"1\" class=\"dataframe\">\n",
       "  <thead>\n",
       "    <tr style=\"text-align: right;\">\n",
       "      <th></th>\n",
       "      <th>Title</th>\n",
       "      <th>lyricss</th>\n",
       "    </tr>\n",
       "  </thead>\n",
       "  <tbody>\n",
       "    <tr>\n",
       "      <th>0</th>\n",
       "      <td>Wapi Yo</td>\n",
       "      <td>lokua kanza  tango ngaï na lelaka moto andima...</td>\n",
       "    </tr>\n",
       "    <tr>\n",
       "      <th>1</th>\n",
       "      <td>GHANA BLUES</td>\n",
       "      <td>ba na siben don bouda mon ni mon bo la wa mawo...</td>\n",
       "    </tr>\n",
       "  </tbody>\n",
       "</table>\n",
       "</div>"
      ],
      "text/plain": [
       "         Title                                            lyricss\n",
       "0      Wapi Yo   lokua kanza  tango ngaï na lelaka moto andima...\n",
       "1  GHANA BLUES  ba na siben don bouda mon ni mon bo la wa mawo..."
      ]
     },
     "execution_count": 10,
     "metadata": {},
     "output_type": "execute_result"
    }
   ],
   "source": [
    "df['lyricss'] = df['lyricss'].str.lower()\n",
    "df.head(2)"
   ]
  },
  {
   "cell_type": "markdown",
   "metadata": {},
   "source": [
    "**WordCloud**"
   ]
  },
  {
   "cell_type": "code",
   "execution_count": 11,
   "metadata": {},
   "outputs": [],
   "source": [
    "import numpy as np\n",
    "from matplotlib import pyplot as plt\n",
    "from os import path\n",
    "from PIL import Image\n",
    "from wordcloud import WordCloud, STOPWORDS, ImageColorGenerator"
   ]
  },
  {
   "cell_type": "code",
   "execution_count": null,
   "metadata": {},
   "outputs": [],
   "source": []
  },
  {
   "cell_type": "code",
   "execution_count": 12,
   "metadata": {
    "scrolled": true
   },
   "outputs": [
    {
     "name": "stdout",
     "output_type": "stream",
     "text": [
      "There are 6394 words in the combination of all review.\n"
     ]
    },
    {
     "data": {
      "image/png": "[encoded data removed]",
      "text/plain": [
       "<Figure size 432x288 with 1 Axes>"
      ]
     },
     "metadata": {
      "needs_background": "light"
     },
     "output_type": "display_data"
    },
    {
     "data": {
      "text/plain": [
       "<wordcloud.wordcloud.WordCloud at 0x1cee0813348>"
      ]
     },
     "execution_count": 12,
     "metadata": {},
     "output_type": "execute_result"
    }
   ],
   "source": [
    "text = \" \".join(review for review in df.lyricss)\n",
    "print (\"There are {} words in the combination of all review.\".format(len(text)))\n",
    "\n",
    "# Create stopword list:\n",
    "stopwords = set(STOPWORDS)\n",
    "stopwords.update([\"i\", \"m\", \"to\", \"a\", \"re\", \"me\", \"us\", \"ve\", \"s\", \"t\", \"ve\", \"re\", \"to\", \"is\", \"in\"])\n",
    "\n",
    "# Generate a word cloud image\n",
    "wordcloud = WordCloud(stopwords=stopwords, background_color=\"black\").generate(text)\n",
    "\n",
    "# Display the generated image:\n",
    "# the matplotlib way:\n",
    "plt.imshow(wordcloud, interpolation='bilinear')\n",
    "plt.axis(\"off\")\n",
    "plt.show()\n",
    "\n",
    "wordcloud.to_file(\"../Image/lokuak.png\")"
   ]
  },
  {
   "cell_type": "code",
   "execution_count": 13,
   "metadata": {
    "scrolled": true
   },
   "outputs": [
    {
     "data": {
      "text/plain": [
       "[' lokua kanza  tango ngaï na lelaka moto andima ngaï te tango ngaï na belelaka yo wapi yo mayi ya miso ekotanga bolingo na ngaï akeyi eh nani akoyembela ngaï nzembo ya bolingo ye eh wapi yo   bis  ye eh ye wapi yo oh bolingo na ngaï okeyi wapi wapi yo oh wapi yo bolingo na ngaï soki lelo olobi yo oboya ngaï na kosuka wapi ye ngaï ya oh ngaï ye eh mama ah ah mayi ya miso ekotanga bolingo na ngaï akeyi eh nani akoyembela ngaï nzembo ya bolingo ye eh wapi yo   bis  ye eh wapi yo oh bolingo na ngaï bolingo na ngaï soki otiki ngaï nani akolinga ngaï ye     wapi okeyi wapi bolingo na ngaï  wapi yo  bis  choeur  bolingo na ngaï voix parlée  bolingo na ngaï soki otiki ngaï naniakolinga ngaï lokola yo nani soki yo te nani bolingo na ngaï choeurs  wapi yo soki otiki ngaï nani akolinga ngaï wapi yo  ad lib  ',\n",
       " 'ba na siben don bouda mon ni mon bo la wa mawo pomdom bi da bobe bodlan jon masi emi yen demba mongo ka budu yenibolo ebotinde bemba wo woko woko woko woko woko woko lembe wa ba na siben don bouda ka ba mon ni la wa mawo pomdom bi da bobe bodlan jon masi emi yen demba mongo ka budu yenibolowe ebotinde wemba wo didje amoundja mi esela be bowa tete dis pas non non oma wa le nyollo nyolantshe lan loma dingui nidalajo dis pas non non dis pas non non don t say no no dis pas non non don t say no no nda le dekwo nawo dis pas non non don t say no no dis pas non non don t say no no ba kouko nde bandeko na yamakoudjou tse pa te kanemba nana wa woko woko woko woko woko woko lembe wa',\n",
       " 'yeteni kanimba mbo mbou yetena niamgo baloko natingelando yi ndende na na mais pourquoi mais pourquoi imbadi mimbadi na mais pourquoi mais pourquoi imbadi mimbadi na sinde mba nyondolando dibiyale nde go mi nan mpa mbi pa ma na mba noki asi ebi kola bona dja lo yembala yele ndondo kiropa bena oh oh  mei ta poye be a walala fowe e wi a avapala ose pourquoi say porque puci puci milla soma wesle fowesa sleep away sou lovo belesesepa o peye ou lo tiendo na me ya do yende mbala iropa ena enajengo balatipo ilo tiende kindena kwalelo kwalelo kwalelo kwalelo kwalelo kwalelo kwalelo kwalelo',\n",
       " ' lokua kanza  mwana na ngaï soki lelo to lobi ngaï na we liteya nini na koki kopesa yo batela bomoyi na yo sala ngele moto nionso na mokili akoluka akoma na bomengo kasi bomengo ya solo mwana na ngaï eza bomengo ya molimo yoka eh mwana na ngaï mwana na ngaï kumisa nzambe akela yo pe batela bomoyi na yo koboma moto te epayi nionso yo okokendeke mwana na ngaï sala ngele epayi yo okotiya ma kolo sala ngele ye mwana na ngaï yo  bis  mwana na ngaï  bis  sala ngele mwana na ngaï ',\n",
       " 'c est pour tous nos sols rouges et nos tempêtes de sable à tous ceux qui connaissent le goût du goudron aux guerriers moudjahidin comme aux mutins d abidjan à nos musiques de brazza comme aux ambiances de kin nos futurs se dessinent le monde est à nous leurs forces déciment et d ici une décennie ils s excuseront sur leurs colonies décidément et dorénavant  je n ai pas choisi choisi d être là ils m ont largué comme un oiseau qui ne peut plus rentrer chez lui mais moi je suis l accusé dont l histoire est un combat nègre marron comme kunta de ceux qui n acceptent pas je suis le mec grisé qui a poussé près de chez toi coupable ou mort né je suis un ennemi d état je suis l accusé qui se lève et offense le magistrat de ceux qu on a fouetté et de ceux qui n oublient pas je suis l accusé et seul dieu me jugera comme on choisit pas sa famille j ai pas choisi d être là   je n ai pas choisi choisi d être là ils m ont largué comme un oiseau qui ne peut plus rentrer chez lui  acte un   tu sais d où tu viens acte deux   tu sais qui t en veut acte trois   tu connais tes droits la liberté  c est parler agir sans se faire emmerder d un côté des merguez de l autre du boudin des chipolatas si tous les hommes naissent égaux négro n est pas dans les quotas comment courir et se sauver avec un jarret coupé cette terre et nos vers planent ici les chaînes nous brisons comme e t  je veux être libre mais aussi rentrer maison  je n ai pas choisi choisi d être là ils m ont largué comme un oiseau qui ne peut plus rentrer chez lui  nzimbo yayi ke samu na batu nionso ke na buala samu na batu nionso na kati ya continent ya betu na batu nionso inki na zolaka ku changer na batu nionso inki na zolaka ku décoller nzimbu yayi ke samu na liberté ya betu nionso tu benu me wa  je n ai pas choisi choisi d être là ils m ont largué comme un oiseau qui ne peut plus rentrer chez lui',\n",
       " ' lokua kanza  watu wana tafuta ukweli mapendo kwenye iko ni mbali duniya ni iko na liya liya watu wana fika sa wa nyama nani ata weza kusema ye ni kweli inabakiya tu mungu atu poneshe ',\n",
       " ' lokua kanza  kala nalobi no yoka makambo nionso ngaï nalingaka te kanda na ngaï eza ya niama pasi elekeli ngaï mingi kolinga moninga ebomaka te oyo ya ngaï ekoma ngambo yokela ngaï tango nakoloba kanda na ngaï eza ya niama ndimela ngaï tango nakolela motema na ngaï ezali se yo  bis  yokela ngaï motema na ngaï eh yokela ngaï tango ngaï na kolelaka yo yoka ah yokela ngaï ah eh tango ngaï na kolelaka yo yoka ngaï ndimbola na ngaï ya bolingo na koyembela yo na loyembo yo ebongi o yoka ngaï ye eh eh yokela ngaï ah tango ngaï na kolela moto andima ngaï te eh naza lokola moto nionso oh na zalaka pe na kanda na ngaï tango ngaï nalelaka yokela ngaï ah yokela ngaï tango ngaï na kolelaka yo yokela ngaï tango ngaï na kolelaka yokela ngaï napesi yo motema na ngaï yokela ngaï ',\n",
       " ' catherine susser lokua kanza  spirit healer keeps on telling me why i ve been running miles since yesterday s sunrise like a river i ve come all this way just to say i love you yeah yeah    just to say i love you navigated unrelenting seas made my way across the desert laughing battled hunger with my weapon of love that s what life is made of ngaï na ye bolingo na ngaï koyebisa yo ndenge ngaï nalingi yo nokalanda yo bipayi nionso bolingo na ngaï yeah yeah    just to say i love you ',\n",
       " ' tokiko kato lokua kanza  donna tokimo konna tokimo omotellu kaze no yooni anata o ',\n",
       " ' lokua kanza  na mileli leli mokili oyo eleki pasi na kolukaka nzela ah po na kozua nzela ya bomoyi tina nini pasi oyo esilaka te ndenge nini mokili yango esalama boye zambe choeurs  molili eleki nzambe lakisa ngaï nzela molili eleki nzambe lakisa ngaï nzela tina nini eh pasi oyo esilaka te ndenge nini mokili yango esalama boye choeurs  nzambe na ngaï molili eleki nzambe lakisa ngaï nzela nzambe na ngaï ya bomoyi lakisa ngaï nzela ']"
      ]
     },
     "execution_count": 13,
     "metadata": {},
     "output_type": "execute_result"
    }
   ],
   "source": [
    "corpus = df[\"lyricss\"].tolist()\n",
    "corpus"
   ]
  },
  {
   "cell_type": "code",
   "execution_count": null,
   "metadata": {},
   "outputs": [],
   "source": []
  },
  {
   "cell_type": "markdown",
   "metadata": {},
   "source": [
    "4. Convert text to numbers by applying the Bag Of Words method"
   ]
  },
  {
   "cell_type": "code",
   "execution_count": 14,
   "metadata": {},
   "outputs": [],
   "source": [
    "from sklearn.feature_extraction.text import CountVectorizer \n",
    "import nltk"
   ]
  },
  {
   "cell_type": "code",
   "execution_count": 15,
   "metadata": {
    "scrolled": true
   },
   "outputs": [
    {
     "data": {
      "text/plain": [
       "[' lokua kanza  tango ngaï na lelaka moto andima ngaï te tango ngaï na belelaka yo wapi yo mayi ya miso ekotanga bolingo na ngaï akeyi eh nani akoyembela ngaï nzembo ya bolingo ye eh wapi yo   bis  ye eh ye wapi yo oh bolingo na ngaï okeyi wapi wapi yo oh wapi yo bolingo na ngaï soki lelo olobi yo oboya ngaï na kosuka wapi ye ngaï ya oh ngaï ye eh mama ah ah mayi ya miso ekotanga bolingo na ngaï akeyi eh nani akoyembela ngaï nzembo ya bolingo ye eh wapi yo   bis  ye eh wapi yo oh bolingo na ngaï bolingo na ngaï soki otiki ngaï nani akolinga ngaï ye     wapi okeyi wapi bolingo na ngaï  wapi yo  bis  choeur  bolingo na ngaï voix parlée  bolingo na ngaï soki otiki ngaï naniakolinga ngaï lokola yo nani soki yo te nani bolingo na ngaï choeurs  wapi yo soki otiki ngaï nani akolinga ngaï wapi yo  ad lib  ',\n",
       " 'ba na siben don bouda mon ni mon bo la wa mawo pomdom bi da bobe bodlan jon masi emi yen demba mongo ka budu yenibolo ebotinde bemba wo woko woko woko woko woko woko lembe wa ba na siben don bouda ka ba mon ni la wa mawo pomdom bi da bobe bodlan jon masi emi yen demba mongo ka budu yenibolowe ebotinde wemba wo didje amoundja mi esela be bowa tete dis pas non non oma wa le nyollo nyolantshe lan loma dingui nidalajo dis pas non non dis pas non non don t say no no dis pas non non don t say no no nda le dekwo nawo dis pas non non don t say no no dis pas non non don t say no no ba kouko nde bandeko na yamakoudjou tse pa te kanemba nana wa woko woko woko woko woko woko lembe wa',\n",
       " 'yeteni kanimba mbo mbou yetena niamgo baloko natingelando yi ndende na na mais pourquoi mais pourquoi imbadi mimbadi na mais pourquoi mais pourquoi imbadi mimbadi na sinde mba nyondolando dibiyale nde go mi nan mpa mbi pa ma na mba noki asi ebi kola bona dja lo yembala yele ndondo kiropa bena oh oh  mei ta poye be a walala fowe e wi a avapala ose pourquoi say porque puci puci milla soma wesle fowesa sleep away sou lovo belesesepa o peye ou lo tiendo na me ya do yende mbala iropa ena enajengo balatipo ilo tiende kindena kwalelo kwalelo kwalelo kwalelo kwalelo kwalelo kwalelo kwalelo',\n",
       " ' lokua kanza  mwana na ngaï soki lelo to lobi ngaï na we liteya nini na koki kopesa yo batela bomoyi na yo sala ngele moto nionso na mokili akoluka akoma na bomengo kasi bomengo ya solo mwana na ngaï eza bomengo ya molimo yoka eh mwana na ngaï mwana na ngaï kumisa nzambe akela yo pe batela bomoyi na yo koboma moto te epayi nionso yo okokendeke mwana na ngaï sala ngele epayi yo okotiya ma kolo sala ngele ye mwana na ngaï yo  bis  mwana na ngaï  bis  sala ngele mwana na ngaï ',\n",
       " 'c est pour tous nos sols rouges et nos tempêtes de sable à tous ceux qui connaissent le goût du goudron aux guerriers moudjahidin comme aux mutins d abidjan à nos musiques de brazza comme aux ambiances de kin nos futurs se dessinent le monde est à nous leurs forces déciment et d ici une décennie ils s excuseront sur leurs colonies décidément et dorénavant  je n ai pas choisi choisi d être là ils m ont largué comme un oiseau qui ne peut plus rentrer chez lui mais moi je suis l accusé dont l histoire est un combat nègre marron comme kunta de ceux qui n acceptent pas je suis le mec grisé qui a poussé près de chez toi coupable ou mort né je suis un ennemi d état je suis l accusé qui se lève et offense le magistrat de ceux qu on a fouetté et de ceux qui n oublient pas je suis l accusé et seul dieu me jugera comme on choisit pas sa famille j ai pas choisi d être là   je n ai pas choisi choisi d être là ils m ont largué comme un oiseau qui ne peut plus rentrer chez lui  acte un   tu sais d où tu viens acte deux   tu sais qui t en veut acte trois   tu connais tes droits la liberté  c est parler agir sans se faire emmerder d un côté des merguez de l autre du boudin des chipolatas si tous les hommes naissent égaux négro n est pas dans les quotas comment courir et se sauver avec un jarret coupé cette terre et nos vers planent ici les chaînes nous brisons comme e t  je veux être libre mais aussi rentrer maison  je n ai pas choisi choisi d être là ils m ont largué comme un oiseau qui ne peut plus rentrer chez lui  nzimbo yayi ke samu na batu nionso ke na buala samu na batu nionso na kati ya continent ya betu na batu nionso inki na zolaka ku changer na batu nionso inki na zolaka ku décoller nzimbu yayi ke samu na liberté ya betu nionso tu benu me wa  je n ai pas choisi choisi d être là ils m ont largué comme un oiseau qui ne peut plus rentrer chez lui',\n",
       " ' lokua kanza  watu wana tafuta ukweli mapendo kwenye iko ni mbali duniya ni iko na liya liya watu wana fika sa wa nyama nani ata weza kusema ye ni kweli inabakiya tu mungu atu poneshe ',\n",
       " ' lokua kanza  kala nalobi no yoka makambo nionso ngaï nalingaka te kanda na ngaï eza ya niama pasi elekeli ngaï mingi kolinga moninga ebomaka te oyo ya ngaï ekoma ngambo yokela ngaï tango nakoloba kanda na ngaï eza ya niama ndimela ngaï tango nakolela motema na ngaï ezali se yo  bis  yokela ngaï motema na ngaï eh yokela ngaï tango ngaï na kolelaka yo yoka ah yokela ngaï ah eh tango ngaï na kolelaka yo yoka ngaï ndimbola na ngaï ya bolingo na koyembela yo na loyembo yo ebongi o yoka ngaï ye eh eh yokela ngaï ah tango ngaï na kolela moto andima ngaï te eh naza lokola moto nionso oh na zalaka pe na kanda na ngaï tango ngaï nalelaka yokela ngaï ah yokela ngaï tango ngaï na kolelaka yo yokela ngaï tango ngaï na kolelaka yokela ngaï napesi yo motema na ngaï yokela ngaï ',\n",
       " ' catherine susser lokua kanza  spirit healer keeps on telling me why i ve been running miles since yesterday s sunrise like a river i ve come all this way just to say i love you yeah yeah    just to say i love you navigated unrelenting seas made my way across the desert laughing battled hunger with my weapon of love that s what life is made of ngaï na ye bolingo na ngaï koyebisa yo ndenge ngaï nalingi yo nokalanda yo bipayi nionso bolingo na ngaï yeah yeah    just to say i love you ',\n",
       " ' tokiko kato lokua kanza  donna tokimo konna tokimo omotellu kaze no yooni anata o ',\n",
       " ' lokua kanza  na mileli leli mokili oyo eleki pasi na kolukaka nzela ah po na kozua nzela ya bomoyi tina nini pasi oyo esilaka te ndenge nini mokili yango esalama boye zambe choeurs  molili eleki nzambe lakisa ngaï nzela molili eleki nzambe lakisa ngaï nzela tina nini eh pasi oyo esilaka te ndenge nini mokili yango esalama boye choeurs  nzambe na ngaï molili eleki nzambe lakisa ngaï nzela nzambe na ngaï ya bomoyi lakisa ngaï nzela ']"
      ]
     },
     "execution_count": 15,
     "metadata": {},
     "output_type": "execute_result"
    }
   ],
   "source": [
    "from sklearn.feature_extraction.text import CountVectorizer\n",
    "cv = CountVectorizer(stop_words='english')\n",
    "cv.fit(corpus)\n",
    "out = cv.transform(corpus)\n",
    "corpus"
   ]
  },
  {
   "cell_type": "code",
   "execution_count": 16,
   "metadata": {},
   "outputs": [
    {
     "data": {
      "text/plain": [
       "matrix([[0, 0, 0, ..., 0, 0, 0],\n",
       "        [0, 0, 0, ..., 0, 0, 0],\n",
       "        [0, 0, 0, ..., 0, 0, 0],\n",
       "        ...,\n",
       "        [0, 0, 0, ..., 0, 0, 0],\n",
       "        [0, 0, 0, ..., 0, 0, 0],\n",
       "        [0, 0, 0, ..., 0, 0, 0]], dtype=int64)"
      ]
     },
     "execution_count": 16,
     "metadata": {},
     "output_type": "execute_result"
    }
   ],
   "source": [
    "#Sparse Matrix\n",
    "\n",
    "out.todense()"
   ]
  },
  {
   "cell_type": "code",
   "execution_count": 17,
   "metadata": {},
   "outputs": [
    {
     "data": {
      "text/plain": [
       "<10x457 sparse matrix of type '<class 'numpy.int64'>'\n",
       "\twith 547 stored elements in Compressed Sparse Row format>"
      ]
     },
     "execution_count": 17,
     "metadata": {},
     "output_type": "execute_result"
    }
   ],
   "source": [
    "out"
   ]
  },
  {
   "cell_type": "code",
   "execution_count": 18,
   "metadata": {},
   "outputs": [
    {
     "data": {
      "text/html": [
       "<div>\n",
       "<style scoped>\n",
       "    .dataframe tbody tr th:only-of-type {\n",
       "        vertical-align: middle;\n",
       "    }\n",
       "\n",
       "    .dataframe tbody tr th {\n",
       "        vertical-align: top;\n",
       "    }\n",
       "\n",
       "    .dataframe thead th {\n",
       "        text-align: right;\n",
       "    }\n",
       "</style>\n",
       "<table border=\"1\" class=\"dataframe\">\n",
       "  <thead>\n",
       "    <tr style=\"text-align: right;\">\n",
       "      <th></th>\n",
       "      <th>abidjan</th>\n",
       "      <th>acceptent</th>\n",
       "      <th>accusé</th>\n",
       "      <th>acte</th>\n",
       "      <th>ad</th>\n",
       "      <th>agir</th>\n",
       "      <th>ah</th>\n",
       "      <th>ai</th>\n",
       "      <th>akela</th>\n",
       "      <th>akeyi</th>\n",
       "      <th>...</th>\n",
       "      <th>yo</th>\n",
       "      <th>yoka</th>\n",
       "      <th>yokela</th>\n",
       "      <th>yooni</th>\n",
       "      <th>zalaka</th>\n",
       "      <th>zambe</th>\n",
       "      <th>zolaka</th>\n",
       "      <th>égaux</th>\n",
       "      <th>état</th>\n",
       "      <th>être</th>\n",
       "    </tr>\n",
       "  </thead>\n",
       "  <tbody>\n",
       "    <tr>\n",
       "      <th>0</th>\n",
       "      <td>0</td>\n",
       "      <td>0</td>\n",
       "      <td>0</td>\n",
       "      <td>0</td>\n",
       "      <td>1</td>\n",
       "      <td>0</td>\n",
       "      <td>2</td>\n",
       "      <td>0</td>\n",
       "      <td>0</td>\n",
       "      <td>2</td>\n",
       "      <td>...</td>\n",
       "      <td>14</td>\n",
       "      <td>0</td>\n",
       "      <td>0</td>\n",
       "      <td>0</td>\n",
       "      <td>0</td>\n",
       "      <td>0</td>\n",
       "      <td>0</td>\n",
       "      <td>0</td>\n",
       "      <td>0</td>\n",
       "      <td>0</td>\n",
       "    </tr>\n",
       "    <tr>\n",
       "      <th>1</th>\n",
       "      <td>0</td>\n",
       "      <td>0</td>\n",
       "      <td>0</td>\n",
       "      <td>0</td>\n",
       "      <td>0</td>\n",
       "      <td>0</td>\n",
       "      <td>0</td>\n",
       "      <td>0</td>\n",
       "      <td>0</td>\n",
       "      <td>0</td>\n",
       "      <td>...</td>\n",
       "      <td>0</td>\n",
       "      <td>0</td>\n",
       "      <td>0</td>\n",
       "      <td>0</td>\n",
       "      <td>0</td>\n",
       "      <td>0</td>\n",
       "      <td>0</td>\n",
       "      <td>0</td>\n",
       "      <td>0</td>\n",
       "      <td>0</td>\n",
       "    </tr>\n",
       "    <tr>\n",
       "      <th>2</th>\n",
       "      <td>0</td>\n",
       "      <td>0</td>\n",
       "      <td>0</td>\n",
       "      <td>0</td>\n",
       "      <td>0</td>\n",
       "      <td>0</td>\n",
       "      <td>0</td>\n",
       "      <td>0</td>\n",
       "      <td>0</td>\n",
       "      <td>0</td>\n",
       "      <td>...</td>\n",
       "      <td>0</td>\n",
       "      <td>0</td>\n",
       "      <td>0</td>\n",
       "      <td>0</td>\n",
       "      <td>0</td>\n",
       "      <td>0</td>\n",
       "      <td>0</td>\n",
       "      <td>0</td>\n",
       "      <td>0</td>\n",
       "      <td>0</td>\n",
       "    </tr>\n",
       "  </tbody>\n",
       "</table>\n",
       "<p>3 rows × 457 columns</p>\n",
       "</div>"
      ],
      "text/plain": [
       "   abidjan  acceptent  accusé  acte  ad  agir  ah  ai  akela  akeyi  ...  yo  \\\n",
       "0        0          0       0     0   1     0   2   0      0      2  ...  14   \n",
       "1        0          0       0     0   0     0   0   0      0      0  ...   0   \n",
       "2        0          0       0     0   0     0   0   0      0      0  ...   0   \n",
       "\n",
       "   yoka  yokela  yooni  zalaka  zambe  zolaka  égaux  état  être  \n",
       "0     0       0      0       0      0       0      0     0     0  \n",
       "1     0       0      0       0      0       0      0     0     0  \n",
       "2     0       0      0       0      0       0      0     0     0  \n",
       "\n",
       "[3 rows x 457 columns]"
      ]
     },
     "execution_count": 18,
     "metadata": {},
     "output_type": "execute_result"
    }
   ],
   "source": [
    "df = pd.DataFrame(out.todense(), columns=cv.get_feature_names())\n",
    "df.head(3)"
   ]
  },
  {
   "cell_type": "code",
   "execution_count": 19,
   "metadata": {},
   "outputs": [
    {
     "data": {
      "text/html": [
       "<div>\n",
       "<style scoped>\n",
       "    .dataframe tbody tr th:only-of-type {\n",
       "        vertical-align: middle;\n",
       "    }\n",
       "\n",
       "    .dataframe tbody tr th {\n",
       "        vertical-align: top;\n",
       "    }\n",
       "\n",
       "    .dataframe thead th {\n",
       "        text-align: right;\n",
       "    }\n",
       "</style>\n",
       "<table border=\"1\" class=\"dataframe\">\n",
       "  <thead>\n",
       "    <tr style=\"text-align: right;\">\n",
       "      <th></th>\n",
       "      <th>abidjan</th>\n",
       "      <th>acceptent</th>\n",
       "      <th>accusé</th>\n",
       "      <th>acte</th>\n",
       "      <th>ad</th>\n",
       "      <th>agir</th>\n",
       "      <th>ah</th>\n",
       "      <th>ai</th>\n",
       "      <th>akela</th>\n",
       "      <th>akeyi</th>\n",
       "      <th>...</th>\n",
       "      <th>yo</th>\n",
       "      <th>yoka</th>\n",
       "      <th>yokela</th>\n",
       "      <th>yooni</th>\n",
       "      <th>zalaka</th>\n",
       "      <th>zambe</th>\n",
       "      <th>zolaka</th>\n",
       "      <th>égaux</th>\n",
       "      <th>état</th>\n",
       "      <th>être</th>\n",
       "    </tr>\n",
       "  </thead>\n",
       "  <tbody>\n",
       "    <tr>\n",
       "      <th>0</th>\n",
       "      <td>0.0000</td>\n",
       "      <td>0.0000</td>\n",
       "      <td>0.0000</td>\n",
       "      <td>0.0000</td>\n",
       "      <td>0.0362</td>\n",
       "      <td>0.0000</td>\n",
       "      <td>0.0538</td>\n",
       "      <td>0.000</td>\n",
       "      <td>0.0000</td>\n",
       "      <td>0.0723</td>\n",
       "      <td>...</td>\n",
       "      <td>0.3348</td>\n",
       "      <td>0.0000</td>\n",
       "      <td>0.0000</td>\n",
       "      <td>0.0000</td>\n",
       "      <td>0.0000</td>\n",
       "      <td>0.0000</td>\n",
       "      <td>0.0000</td>\n",
       "      <td>0.0000</td>\n",
       "      <td>0.0000</td>\n",
       "      <td>0.0000</td>\n",
       "    </tr>\n",
       "    <tr>\n",
       "      <th>1</th>\n",
       "      <td>0.0000</td>\n",
       "      <td>0.0000</td>\n",
       "      <td>0.0000</td>\n",
       "      <td>0.0000</td>\n",
       "      <td>0.0000</td>\n",
       "      <td>0.0000</td>\n",
       "      <td>0.0000</td>\n",
       "      <td>0.000</td>\n",
       "      <td>0.0000</td>\n",
       "      <td>0.0000</td>\n",
       "      <td>...</td>\n",
       "      <td>0.0000</td>\n",
       "      <td>0.0000</td>\n",
       "      <td>0.0000</td>\n",
       "      <td>0.0000</td>\n",
       "      <td>0.0000</td>\n",
       "      <td>0.0000</td>\n",
       "      <td>0.0000</td>\n",
       "      <td>0.0000</td>\n",
       "      <td>0.0000</td>\n",
       "      <td>0.0000</td>\n",
       "    </tr>\n",
       "    <tr>\n",
       "      <th>2</th>\n",
       "      <td>0.0000</td>\n",
       "      <td>0.0000</td>\n",
       "      <td>0.0000</td>\n",
       "      <td>0.0000</td>\n",
       "      <td>0.0000</td>\n",
       "      <td>0.0000</td>\n",
       "      <td>0.0000</td>\n",
       "      <td>0.000</td>\n",
       "      <td>0.0000</td>\n",
       "      <td>0.0000</td>\n",
       "      <td>...</td>\n",
       "      <td>0.0000</td>\n",
       "      <td>0.0000</td>\n",
       "      <td>0.0000</td>\n",
       "      <td>0.0000</td>\n",
       "      <td>0.0000</td>\n",
       "      <td>0.0000</td>\n",
       "      <td>0.0000</td>\n",
       "      <td>0.0000</td>\n",
       "      <td>0.0000</td>\n",
       "      <td>0.0000</td>\n",
       "    </tr>\n",
       "    <tr>\n",
       "      <th>3</th>\n",
       "      <td>0.0000</td>\n",
       "      <td>0.0000</td>\n",
       "      <td>0.0000</td>\n",
       "      <td>0.0000</td>\n",
       "      <td>0.0000</td>\n",
       "      <td>0.0000</td>\n",
       "      <td>0.0000</td>\n",
       "      <td>0.000</td>\n",
       "      <td>0.0662</td>\n",
       "      <td>0.0000</td>\n",
       "      <td>...</td>\n",
       "      <td>0.3062</td>\n",
       "      <td>0.0562</td>\n",
       "      <td>0.0000</td>\n",
       "      <td>0.0000</td>\n",
       "      <td>0.0000</td>\n",
       "      <td>0.0000</td>\n",
       "      <td>0.0000</td>\n",
       "      <td>0.0000</td>\n",
       "      <td>0.0000</td>\n",
       "      <td>0.0000</td>\n",
       "    </tr>\n",
       "    <tr>\n",
       "      <th>4</th>\n",
       "      <td>0.0294</td>\n",
       "      <td>0.0294</td>\n",
       "      <td>0.0882</td>\n",
       "      <td>0.0882</td>\n",
       "      <td>0.0000</td>\n",
       "      <td>0.0294</td>\n",
       "      <td>0.0000</td>\n",
       "      <td>0.147</td>\n",
       "      <td>0.0000</td>\n",
       "      <td>0.0000</td>\n",
       "      <td>...</td>\n",
       "      <td>0.0000</td>\n",
       "      <td>0.0000</td>\n",
       "      <td>0.0000</td>\n",
       "      <td>0.0000</td>\n",
       "      <td>0.0000</td>\n",
       "      <td>0.0000</td>\n",
       "      <td>0.0588</td>\n",
       "      <td>0.0294</td>\n",
       "      <td>0.0294</td>\n",
       "      <td>0.1765</td>\n",
       "    </tr>\n",
       "    <tr>\n",
       "      <th>5</th>\n",
       "      <td>0.0000</td>\n",
       "      <td>0.0000</td>\n",
       "      <td>0.0000</td>\n",
       "      <td>0.0000</td>\n",
       "      <td>0.0000</td>\n",
       "      <td>0.0000</td>\n",
       "      <td>0.0000</td>\n",
       "      <td>0.000</td>\n",
       "      <td>0.0000</td>\n",
       "      <td>0.0000</td>\n",
       "      <td>...</td>\n",
       "      <td>0.0000</td>\n",
       "      <td>0.0000</td>\n",
       "      <td>0.0000</td>\n",
       "      <td>0.0000</td>\n",
       "      <td>0.0000</td>\n",
       "      <td>0.0000</td>\n",
       "      <td>0.0000</td>\n",
       "      <td>0.0000</td>\n",
       "      <td>0.0000</td>\n",
       "      <td>0.0000</td>\n",
       "    </tr>\n",
       "    <tr>\n",
       "      <th>6</th>\n",
       "      <td>0.0000</td>\n",
       "      <td>0.0000</td>\n",
       "      <td>0.0000</td>\n",
       "      <td>0.0000</td>\n",
       "      <td>0.0000</td>\n",
       "      <td>0.0000</td>\n",
       "      <td>0.1174</td>\n",
       "      <td>0.000</td>\n",
       "      <td>0.0000</td>\n",
       "      <td>0.0000</td>\n",
       "      <td>...</td>\n",
       "      <td>0.1827</td>\n",
       "      <td>0.1342</td>\n",
       "      <td>0.3947</td>\n",
       "      <td>0.0000</td>\n",
       "      <td>0.0395</td>\n",
       "      <td>0.0000</td>\n",
       "      <td>0.0000</td>\n",
       "      <td>0.0000</td>\n",
       "      <td>0.0000</td>\n",
       "      <td>0.0000</td>\n",
       "    </tr>\n",
       "    <tr>\n",
       "      <th>7</th>\n",
       "      <td>0.0000</td>\n",
       "      <td>0.0000</td>\n",
       "      <td>0.0000</td>\n",
       "      <td>0.0000</td>\n",
       "      <td>0.0000</td>\n",
       "      <td>0.0000</td>\n",
       "      <td>0.0000</td>\n",
       "      <td>0.000</td>\n",
       "      <td>0.0000</td>\n",
       "      <td>0.0000</td>\n",
       "      <td>...</td>\n",
       "      <td>0.2033</td>\n",
       "      <td>0.0000</td>\n",
       "      <td>0.0000</td>\n",
       "      <td>0.0000</td>\n",
       "      <td>0.0000</td>\n",
       "      <td>0.0000</td>\n",
       "      <td>0.0000</td>\n",
       "      <td>0.0000</td>\n",
       "      <td>0.0000</td>\n",
       "      <td>0.0000</td>\n",
       "    </tr>\n",
       "    <tr>\n",
       "      <th>8</th>\n",
       "      <td>0.0000</td>\n",
       "      <td>0.0000</td>\n",
       "      <td>0.0000</td>\n",
       "      <td>0.0000</td>\n",
       "      <td>0.0000</td>\n",
       "      <td>0.0000</td>\n",
       "      <td>0.0000</td>\n",
       "      <td>0.000</td>\n",
       "      <td>0.0000</td>\n",
       "      <td>0.0000</td>\n",
       "      <td>...</td>\n",
       "      <td>0.0000</td>\n",
       "      <td>0.0000</td>\n",
       "      <td>0.0000</td>\n",
       "      <td>0.2831</td>\n",
       "      <td>0.0000</td>\n",
       "      <td>0.0000</td>\n",
       "      <td>0.0000</td>\n",
       "      <td>0.0000</td>\n",
       "      <td>0.0000</td>\n",
       "      <td>0.0000</td>\n",
       "    </tr>\n",
       "    <tr>\n",
       "      <th>9</th>\n",
       "      <td>0.0000</td>\n",
       "      <td>0.0000</td>\n",
       "      <td>0.0000</td>\n",
       "      <td>0.0000</td>\n",
       "      <td>0.0000</td>\n",
       "      <td>0.0000</td>\n",
       "      <td>0.0552</td>\n",
       "      <td>0.000</td>\n",
       "      <td>0.0000</td>\n",
       "      <td>0.0000</td>\n",
       "      <td>...</td>\n",
       "      <td>0.0000</td>\n",
       "      <td>0.0000</td>\n",
       "      <td>0.0000</td>\n",
       "      <td>0.0000</td>\n",
       "      <td>0.0000</td>\n",
       "      <td>0.0742</td>\n",
       "      <td>0.0000</td>\n",
       "      <td>0.0000</td>\n",
       "      <td>0.0000</td>\n",
       "      <td>0.0000</td>\n",
       "    </tr>\n",
       "  </tbody>\n",
       "</table>\n",
       "<p>10 rows × 457 columns</p>\n",
       "</div>"
      ],
      "text/plain": [
       "   abidjan  acceptent  accusé    acte      ad    agir      ah     ai   akela  \\\n",
       "0   0.0000     0.0000  0.0000  0.0000  0.0362  0.0000  0.0538  0.000  0.0000   \n",
       "1   0.0000     0.0000  0.0000  0.0000  0.0000  0.0000  0.0000  0.000  0.0000   \n",
       "2   0.0000     0.0000  0.0000  0.0000  0.0000  0.0000  0.0000  0.000  0.0000   \n",
       "3   0.0000     0.0000  0.0000  0.0000  0.0000  0.0000  0.0000  0.000  0.0662   \n",
       "4   0.0294     0.0294  0.0882  0.0882  0.0000  0.0294  0.0000  0.147  0.0000   \n",
       "5   0.0000     0.0000  0.0000  0.0000  0.0000  0.0000  0.0000  0.000  0.0000   \n",
       "6   0.0000     0.0000  0.0000  0.0000  0.0000  0.0000  0.1174  0.000  0.0000   \n",
       "7   0.0000     0.0000  0.0000  0.0000  0.0000  0.0000  0.0000  0.000  0.0000   \n",
       "8   0.0000     0.0000  0.0000  0.0000  0.0000  0.0000  0.0000  0.000  0.0000   \n",
       "9   0.0000     0.0000  0.0000  0.0000  0.0000  0.0000  0.0552  0.000  0.0000   \n",
       "\n",
       "    akeyi  ...      yo    yoka  yokela   yooni  zalaka   zambe  zolaka  \\\n",
       "0  0.0723  ...  0.3348  0.0000  0.0000  0.0000  0.0000  0.0000  0.0000   \n",
       "1  0.0000  ...  0.0000  0.0000  0.0000  0.0000  0.0000  0.0000  0.0000   \n",
       "2  0.0000  ...  0.0000  0.0000  0.0000  0.0000  0.0000  0.0000  0.0000   \n",
       "3  0.0000  ...  0.3062  0.0562  0.0000  0.0000  0.0000  0.0000  0.0000   \n",
       "4  0.0000  ...  0.0000  0.0000  0.0000  0.0000  0.0000  0.0000  0.0588   \n",
       "5  0.0000  ...  0.0000  0.0000  0.0000  0.0000  0.0000  0.0000  0.0000   \n",
       "6  0.0000  ...  0.1827  0.1342  0.3947  0.0000  0.0395  0.0000  0.0000   \n",
       "7  0.0000  ...  0.2033  0.0000  0.0000  0.0000  0.0000  0.0000  0.0000   \n",
       "8  0.0000  ...  0.0000  0.0000  0.0000  0.2831  0.0000  0.0000  0.0000   \n",
       "9  0.0000  ...  0.0000  0.0000  0.0000  0.0000  0.0000  0.0742  0.0000   \n",
       "\n",
       "    égaux    état    être  \n",
       "0  0.0000  0.0000  0.0000  \n",
       "1  0.0000  0.0000  0.0000  \n",
       "2  0.0000  0.0000  0.0000  \n",
       "3  0.0000  0.0000  0.0000  \n",
       "4  0.0294  0.0294  0.1765  \n",
       "5  0.0000  0.0000  0.0000  \n",
       "6  0.0000  0.0000  0.0000  \n",
       "7  0.0000  0.0000  0.0000  \n",
       "8  0.0000  0.0000  0.0000  \n",
       "9  0.0000  0.0000  0.0000  \n",
       "\n",
       "[10 rows x 457 columns]"
      ]
     },
     "execution_count": 19,
     "metadata": {},
     "output_type": "execute_result"
    }
   ],
   "source": [
    "#Tf-Idf (Normalization)\n",
    "\n",
    "from sklearn.feature_extraction.text import TfidfTransformer\n",
    "\n",
    "tf = TfidfTransformer()\n",
    "transformed = tf.fit_transform(out)\n",
    "transformed\n",
    "\n",
    "tdf = pd.DataFrame(transformed.todense(), columns=cv.get_feature_names())\n",
    "tdf.round(4)"
   ]
  },
  {
   "cell_type": "code",
   "execution_count": 20,
   "metadata": {},
   "outputs": [
    {
     "data": {
      "text/plain": [
       "array([[0., 0., 0., ..., 0., 0., 0.],\n",
       "       [0., 0., 0., ..., 0., 0., 0.],\n",
       "       [0., 0., 0., ..., 0., 0., 0.],\n",
       "       ...,\n",
       "       [0., 0., 0., ..., 0., 0., 0.],\n",
       "       [0., 0., 0., ..., 0., 0., 0.],\n",
       "       [0., 0., 0., ..., 0., 0., 0.]])"
      ]
     },
     "execution_count": 20,
     "metadata": {},
     "output_type": "execute_result"
    }
   ],
   "source": [
    "tdf.values"
   ]
  },
  {
   "cell_type": "code",
   "execution_count": null,
   "metadata": {},
   "outputs": [],
   "source": []
  },
  {
   "cell_type": "markdown",
   "metadata": {},
   "source": [
    "5. Build and train a Naive Bayes classifier"
   ]
  },
  {
   "cell_type": "code",
   "execution_count": null,
   "metadata": {},
   "outputs": [],
   "source": []
  },
  {
   "cell_type": "code",
   "execution_count": null,
   "metadata": {},
   "outputs": [],
   "source": []
  },
  {
   "cell_type": "code",
   "execution_count": null,
   "metadata": {},
   "outputs": [],
   "source": []
  }
 ],
 "metadata": {
  "kernelspec": {
   "display_name": "Python 3",
   "language": "python",
   "name": "python3"
  },
  "language_info": {
   "codemirror_mode": {
    "name": "ipython",
    "version": 3
   },
   "file_extension": ".py",
   "mimetype": "text/x-python",
   "name": "python",
   "nbconvert_exporter": "python",
   "pygments_lexer": "ipython3",
   "version": "3.7.6"
  }
 },
 "nbformat": 4,
 "nbformat_minor": 4
}
